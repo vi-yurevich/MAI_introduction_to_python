{
 "cells": [
  {
   "cell_type": "markdown",
   "source": [
    "# Task 1\n",
    "\n",
    "Манхэттенское расстояние -- одна из метрик наряду с более привычным нам эвклидовым расстоянием. Согласно этой метрике, расстояние между двумя точками равно сумме модулей разностей их координат.\n",
    "\n",
    "Напишите функцию compute_m_dist, которая вычисляет манхэттенское расстояние между двумя точками на плоскости. При этом вторая точка по умолчанию находится в начале координат -- вычисляется расстояние от начала координат до другой точки.\n",
    "\n",
    "**Функция принимает два аргумента:** координаты первой и второй точек, каждая из которых -- кортеж из двух вещественных чисел.\n",
    "\n",
    "(x_1,y_1),(x_2,y_2)\n",
    "\n",
    "**Функция возвращает одно значение:** манхэттенское расстояние между точками, вещественное число.\n",
    "\n",
    "**Примеры**\n",
    "\n",
    "compute_m_dist((2, 3), (3, 5)) -> 3\n",
    "compute_m_dist((2, 3)) -> 5"
   ],
   "metadata": {
    "collapsed": false
   },
   "id": "c41683ef8b467d55"
  },
  {
   "cell_type": "code",
   "execution_count": 1,
   "outputs": [],
   "source": [
    "def compute_m_dist(a, b = (0, 0)):\n",
    "    x_1, y_1 = a\n",
    "    x_2, y_2 = b\n",
    "    return abs(x_2 - x_1) + abs(y_2 - y_1)"
   ],
   "metadata": {
    "collapsed": false,
    "ExecuteTime": {
     "end_time": "2023-12-20T14:26:24.958967962Z",
     "start_time": "2023-12-20T14:26:24.950442300Z"
    }
   },
   "id": "698301236863ccdc"
  },
  {
   "cell_type": "markdown",
   "source": [
    "# Task 2\n",
    "\n",
    "Напишите функцию compute_trace, которая вычисляет след матрицы.\n",
    "\n",
    "**Примечание:** след квадратной матрицы -- это сумма всех элементов, расположенных на её главной диагонали.\n",
    "\n",
    "**Функция принимает один аргумент:** квадратную матрицу(двумерный список вещественных чисел).\n",
    "\n",
    "**Функция возвращает одно значение:** вычисленный след матрицы, вещественное число.\n",
    "\n",
    "**Пример**\n",
    "\n",
    "compute_trace([[1, 3.2], [3, -7.1]]) -> -6.1"
   ],
   "metadata": {
    "collapsed": false
   },
   "id": "bb1bca41c60a70c"
  },
  {
   "cell_type": "code",
   "execution_count": 4,
   "outputs": [
    {
     "data": {
      "text/plain": "-6.1"
     },
     "execution_count": 4,
     "metadata": {},
     "output_type": "execute_result"
    }
   ],
   "source": [
    "def compute_trace(matrix):\n",
    "    trace = 0.\n",
    "    for i in range(len(matrix)):\n",
    "        trace += matrix[i][i]\n",
    "        \n",
    "    return trace"
   ],
   "metadata": {
    "collapsed": false,
    "ExecuteTime": {
     "end_time": "2023-10-24T13:01:45.565491159Z",
     "start_time": "2023-10-24T13:01:45.485369229Z"
    }
   },
   "id": "cc0e87e91cf2c471"
  },
  {
   "cell_type": "markdown",
   "source": [
    "# Task 3\n",
    "\n",
    "Напишите функцию solve_quadratic_equation для вычисления корней квадратного уравнения. Функция принимает коэффициенты уравнения и возвращает количество решений и сами решения.\n",
    "\n",
    "**Функция принимает три аргумента:** вещественных числа -- коэффициенты a, b, c квадратного уравнения -- уравнения вида:\n",
    "\n",
    "$ax^2+bx+c=0, a\\neq0$\n",
    "\n",
    "**Функция возвращает одно значение:** кортеж, в котором первый элемент -- это количество решений, а второй -- кортеж из самих решений. В случае, если уравнение имеет больше одного решения, они должны быть расположены в порядке возрастания.\n",
    "\n",
    "**Примеры**\n",
    "\n",
    "solve_quadratic_equation(1, -4, 4) -> (1, (2,))\n",
    "\n",
    "solve_quadratic_equation(1, 0, 4) -> (0, ())\n",
    "\n",
    "solve_quadratic_equation(2, -3, -20) -> (2, (-2.5, 4))\n",
    "\n",
    "**Примечание:** в данной задаче требуется решить уравнение в вещественных числах. Корень кратности 2 считается одним корнем."
   ],
   "metadata": {
    "collapsed": false
   },
   "id": "82614f707a0cfe16"
  },
  {
   "cell_type": "code",
   "execution_count": 13,
   "outputs": [
    {
     "data": {
      "text/plain": "(1, (2.0,))"
     },
     "execution_count": 13,
     "metadata": {},
     "output_type": "execute_result"
    }
   ],
   "source": [
    "import math\n",
    "\n",
    "def solve_quadratic_equation(a, b, c):\n",
    "    discriminant = b ** 2. - 4. * a * c\n",
    "    solutions = []\n",
    "    \n",
    "    if discriminant > 0.:\n",
    "        solutions.append((-b + discriminant ** 0.5) / (2. * a))\n",
    "        solutions.append((-b - discriminant ** 0.5) / (2. * a))\n",
    "        solutions.sort()\n",
    "        result = (2, tuple(solutions))\n",
    "        \n",
    "    elif math.isclose(discriminant, 0.):\n",
    "        solutions.append(-b / (2. * a))\n",
    "        result = (1, (solutions[0],))\n",
    "        \n",
    "    else:\n",
    "        result = (0, ())\n",
    "    \n",
    "    return result"
   ],
   "metadata": {
    "collapsed": false,
    "ExecuteTime": {
     "end_time": "2023-10-24T13:16:41.828383323Z",
     "start_time": "2023-10-24T13:16:41.774505585Z"
    }
   },
   "id": "909f84a43224a10c"
  },
  {
   "cell_type": "markdown",
   "source": [
    "# Task 4\n",
    "\n",
    "Дается некоторое натуральное число. Напишите функцию compute_digits_sum, которая возвращает сумму цифр этого числа.\n",
    "\n",
    "**Функция принимает один аргумент:** натуральное число.\n",
    "\n",
    "**Функция возвращает одно значение:** сумму цифр числа, натуральное число.\n",
    "\n",
    "**Примеры**\n",
    "\n",
    "compute_digits_sum(112) -> 4\n",
    "compute_digits_sum(11235) -> 12\n",
    "\n",
    "**Примечание:** для решения этой задачи нельзя использовать циклы или строки, списки. Воспользуйтесь рекурсией."
   ],
   "metadata": {
    "collapsed": false
   },
   "id": "8945f77b24471668"
  },
  {
   "cell_type": "code",
   "execution_count": 3,
   "outputs": [
    {
     "data": {
      "text/plain": "12"
     },
     "execution_count": 3,
     "metadata": {},
     "output_type": "execute_result"
    }
   ],
   "source": [
    "def compute_digits_sum(n, accumulate = 0):\n",
    "    if n == 0:\n",
    "        return accumulate\n",
    "    \n",
    "    return compute_digits_sum(n // 10, accumulate + n % 10)"
   ],
   "metadata": {
    "collapsed": false,
    "ExecuteTime": {
     "end_time": "2023-10-24T12:59:41.533183801Z",
     "start_time": "2023-10-24T12:59:41.516241058Z"
    }
   },
   "id": "e5e8870f75baaa70"
  },
  {
   "cell_type": "markdown",
   "source": [
    "# Task 5\n",
    "\n",
    "Даются некоторые натуральные числа num и d. Напишите функцию is_power, которая возвращает True, если число num является точной степенью числа d и False в противном случае.\n",
    "\n",
    "Число num является точной степенью числа d, если $d^x=num$ для некоторого числа x.\n",
    "\n",
    "**Функция принимает два аргумента:** num и d, причем d по умолчанию равно 2.\n",
    "\n",
    "**Функция возвращает одно значение:** True или False.\n",
    "\n",
    "\n",
    "**Примеры**\n",
    "\n",
    "is_power(1024) -> True\n",
    "is_power(650, 25) -> False\n",
    "\n",
    "**Примечание:** для решения этой задачи нельзя использовать операцию возведения в степень или аналогичную функцию. Используйте рекурсию."
   ],
   "metadata": {
    "collapsed": false
   },
   "id": "688ac3383f78beec"
  },
  {
   "cell_type": "code",
   "execution_count": 7,
   "outputs": [],
   "source": [
    "def is_power(num, d=2):\n",
    "    if d in [0, 1]:\n",
    "        return False\n",
    "    \n",
    "    if num == d:\n",
    "        return True\n",
    "    \n",
    "    if num % d != 0:\n",
    "        return False\n",
    "    \n",
    "    return is_power(num // d, d)"
   ],
   "metadata": {
    "collapsed": false,
    "ExecuteTime": {
     "end_time": "2023-12-03T09:25:28.589665591Z",
     "start_time": "2023-12-03T09:25:28.582602046Z"
    }
   },
   "id": "78fc1c9b33fe392f"
  },
  {
   "cell_type": "markdown",
   "source": [
    "# Task 6\n",
    "\n",
    "Индекс массы тела (ИМТ, англ. body mass index (BMI)) — величина, позволяющая оценить степень соответствия массы человека и его роста и тем самым косвенно судить о том, является ли масса недостаточной, нормальной или избыточной. Важен при определении показаний для необходимости лечения.\n",
    "\n",
    "Напишите функцию, которая выводит данные об ИМТ человека согласно приведенной таблице интерпретации.\n",
    "\n",
    "Индекс можно подсчитать по следующей формуле (где m -- масса в кг, h -- рост в метрах): \n",
    "\n",
    "   \n",
    "\\\n",
    "$bmi=\\frac{m}{h^2}$\n",
    "\n",
    "**Функция принимает произвольное число аргументов:** сначала целое число -- рост в сантиметрах, затем последовательность измерений массы человека за некоторый период, состоящую не менее чем из одного вещественного числа. Для расчета ИМТ используется средний вес человека за этот период.\n",
    "\n",
    "**Функция ничего не возвращает:** но выводит данные на экран. Обратите внимание на примеры.\n",
    "\n",
    "| BMI         | CLASSIFICATION | HEALTH RISK |  \n",
    "|-------------| --------- |-------------|\n",
    "| < 18.5      | Underweight | Minimal |\n",
    "| 18.5 - 24.9 | Normal | Minimal |\n",
    "| 25 - 29.9   | Overweight | Increased |\n",
    "| 30 - 34.9   | Obese | High |\n",
    "| 35 - 39.9   | Severely Obese | Very High |\n",
    "| > 40        | Morbidly Obese | Extremely Hight |\n",
    "\n",
    "\n",
    "**Пример**\n",
    "\n",
    "Вызов:\n",
    "bmi_info(155, 49., 51., 50.)\n",
    "Вывод:\n",
    "Your BMI: 20.8\n",
    "It can be classificate as Normal\n",
    "Risk for your health is Minimal\n"
   ],
   "metadata": {
    "collapsed": false
   },
   "id": "8300f08e80d1eb7d"
  },
  {
   "cell_type": "code",
   "execution_count": 18,
   "outputs": [
    {
     "name": "stdout",
     "output_type": "stream",
     "text": [
      "Your BMI: 20.8\n",
      "It can be classificate as Normal\n",
      "Risk for your health is Minimal\n"
     ]
    }
   ],
   "source": [
    "def bmi_classification_and_health_risk(bmi):\n",
    "    if bmi < 18.5:\n",
    "        result = \"Underweight\", \"Minimum\"\n",
    "    elif bmi < 24.9:\n",
    "        result = \"Normal\", \"Minimal\"\n",
    "    elif bmi < 29.9:\n",
    "        result = \"Overweight\", \"Increased\",\n",
    "    elif bmi < 34.9:\n",
    "        result = \"Obese\", \"High\"\n",
    "    elif bmi < 39.9:\n",
    "        result = \"Severely\", \"Obese\"\n",
    "    else:\n",
    "        result = \"Morbidly\", \"Extremely High\"\n",
    "    \n",
    "    return result\n",
    "\n",
    "def bmi_info(height, *weight_args):\n",
    "    sum_weight = 0\n",
    "    for weight in weight_args:\n",
    "        sum_weight += weight\n",
    "        \n",
    "    average_weight = sum_weight / len(weight_args)\n",
    "    \n",
    "    bmi = average_weight / (height * 0.01) ** 2\n",
    "    \n",
    "    classification, health_risk = bmi_classification_and_health_risk(bmi)\n",
    "    \n",
    "    print(f\"Your BMI: {round(bmi, 1)}\")\n",
    "    print(f\"It can be classificate as {classification}\")\n",
    "    print(f\"Risk for your health is {health_risk}\")"
   ],
   "metadata": {
    "collapsed": false,
    "ExecuteTime": {
     "end_time": "2023-10-25T07:06:26.775457570Z",
     "start_time": "2023-10-25T07:06:26.758884879Z"
    }
   },
   "id": "d424d52e9c9beb8b"
  }
 ],
 "metadata": {
  "kernelspec": {
   "display_name": "Python 3",
   "language": "python",
   "name": "python3"
  },
  "language_info": {
   "codemirror_mode": {
    "name": "ipython",
    "version": 2
   },
   "file_extension": ".py",
   "mimetype": "text/x-python",
   "name": "python",
   "nbconvert_exporter": "python",
   "pygments_lexer": "ipython2",
   "version": "2.7.6"
  }
 },
 "nbformat": 4,
 "nbformat_minor": 5
}
