{
 "cells": [
  {
   "cell_type": "markdown",
   "source": [
    "# Task 1\n",
    "\n",
    "Представим, что в Python нет класса для работы с комплексными числами. В этом задании вам требуется создать класс Complex.\n",
    "\n",
    "Этот класс должен реализовывать такой же функционал, как и встроенный класс complex, то есть (для начала):\n",
    "\n",
    "1. У объектов класса два атрибута -- действительная и мнимая часть.\n",
    "\n",
    "2. Объекты класса выводятся на экран в \"читабельном\" виде: для комплексного число с нулевой мнимой частью выводится только вещественная часть, для комплексного числа с нулевой вещественной частью выводится только мнимая часть, в остальных случаях выводится число вида (a+bi), (a-bi), (-a+bi), (-a-bi). Если мнимая часть равна плюс-минус единице, то единица не выводится."
   ],
   "metadata": {
    "collapsed": false
   },
   "id": "f8839a070a77aac2"
  },
  {
   "cell_type": "code",
   "execution_count": 6,
   "outputs": [
    {
     "name": "stdout",
     "output_type": "stream",
     "text": [
      "1\n"
     ]
    }
   ],
   "source": [
    "from math import isclose\n",
    "\n",
    "class Complex:\n",
    "    __slots__ = ['_re', '_im']\n",
    "    \n",
    "    def __init__(self, re, im):\n",
    "        self._re = re\n",
    "        self._im = im\n",
    "    \n",
    "    def __str__(self):\n",
    "        if isclose(self._im, 0):\n",
    "            res = f'{self._re}'\n",
    "        else:\n",
    "            if isclose(self._im, 1):\n",
    "                im_str = 'i'\n",
    "            elif isclose(self._im, -1):\n",
    "                im_str = '-i'\n",
    "            else:\n",
    "                im_str = f'{str(self._im)}i'\n",
    "                \n",
    "            if self._re == 0:\n",
    "                res = im_str\n",
    "            else:\n",
    "                im_str = '+' + im_str if im_str[0] != '-' else im_str\n",
    "                res = f'({str(self._re)}{im_str})'\n",
    "                \n",
    "        return res"
   ],
   "metadata": {
    "collapsed": false,
    "ExecuteTime": {
     "end_time": "2023-12-21T11:17:14.024657123Z",
     "start_time": "2023-12-21T11:17:13.986518913Z"
    }
   },
   "id": "30db498891063886"
  },
  {
   "cell_type": "markdown",
   "source": [
    "# Task 2\n",
    "\n",
    "В этом задании вы продолжите работать над классом Complex.\n",
    "\n",
    "Теперь в него надо добавить реализацию основные операции: проверка на равенство/неравенство, сложение, умножение, деление, вычисление модуля. Операции должны соответствовать своим определениям из теории комплексных чисел.\n",
    "\n",
    "Примечание. Для упрощения считайте, что пока требуется производить операции только между комплексными числами и не требуется предусматривать, что произойдет, например, при попытке умножить комплексное число на int. Но если чувствуете силы и желание, можете реализовать и более полный функционал для класса."
   ],
   "metadata": {
    "collapsed": false
   },
   "id": "25941791b603a914"
  },
  {
   "cell_type": "code",
   "execution_count": null,
   "outputs": [],
   "source": [
    "from math import isclose\n",
    "from math import sqrt\n",
    "\n",
    "class Complex:\n",
    "    __slots__ = ['_re', '_im']\n",
    "    \n",
    "    def __init__(self, re, im):\n",
    "        self._re = re\n",
    "        self._im = im\n",
    "    \n",
    "    def __str__(self):\n",
    "        if isclose(self._im, 0):\n",
    "            res = f'{self._re}'\n",
    "        else:\n",
    "            if isclose(self._im, 1):\n",
    "                im_str = 'i'\n",
    "            elif isclose(self._im, -1):\n",
    "                im_str = '-i'\n",
    "            else:\n",
    "                im_str = f'{str(self._im)}i'\n",
    "                \n",
    "            if self._re == 0:\n",
    "                res = im_str\n",
    "            else:\n",
    "                im_str = '+' + im_str if im_str[0] != '-' else im_str\n",
    "                res = f'({str(self._re)}{im_str})'\n",
    "                \n",
    "        return res\n",
    "    \n",
    "    def __abs__(self):\n",
    "        return sqrt(self._re ** 2 + self._im ** 2)\n",
    "    \n",
    "    def __eq__(self, other):\n",
    "        return isclose(self._re, other._re) and isclose(self._im, other._im)\n",
    "    \n",
    "    def __ne__(self, other):\n",
    "        return not self == other\n",
    "\n",
    "    def __add__(self, other):\n",
    "        return Complex(self._re + other._re, self._im + other._im)\n",
    "    \n",
    "    def __sub__(self, other):\n",
    "        return Complex(self._re - other._re, self._im - other._im)\n",
    "    \n",
    "    def __mul__(self, other):\n",
    "        return Complex(\n",
    "            self._re * other._re - self._im * other._im,\n",
    "            self._re * other._im + self._im * other._re\n",
    "        )\n",
    "    \n",
    "    def __truediv__(self, other):\n",
    "        numerator = self * Complex(other._re, -other._im)\n",
    "        denominator = other._re ** 2 + other._im ** 2\n",
    "        return Complex(numerator._re / denominator, numerator._im / denominator)"
   ],
   "metadata": {
    "collapsed": false
   },
   "id": "4e361740241e752f"
  },
  {
   "cell_type": "markdown",
   "source": [
    "# Task 3\n",
    "\n",
    "Информация в ДНК записана в виде кода, состоящего из четырех азотистых оснований:\n",
    "\n",
    "* аденин (A),\n",
    "* гуанин (G),\n",
    "* цитозин (C),\n",
    "* тимин (T).\n",
    "\n",
    "ДНК и фрагменты кодируются последовательностью азотистых оснований, например AGTCGA\n",
    "\n",
    "Элементы одной цепи связываются с элементами другой. Аденин всегда образует связь с тимином, а цитозин с гуанином, поэтому говорят, что A и T комплементарны, как и G и C.\n",
    "\n",
    "Вам необходимо написать класс DNAsequence, который представляет последовательность ДНК.\n",
    "\n",
    "Объекты класса содержат поля: id (идентификатор последовательности, целое число) и саму последовательность (строка). \n",
    "\n",
    "* В конструкторе при создании объекта проверяется, является ли поданная на вход последовательность действительно последовательностью ДНК (состоит ли из обозначенных символов для кодирования азотистых оснований), при несоответствии выбрасывается исключение ValueError\n",
    "* Нельзя внести изменения в последовательность ДНК извне класса, в id внести изменения можно\n",
    "* Для объектов класса реализован метод complement(), возвращающий строку -- комплементарную последовательность. \n",
    "* Для объектов класса можно вычислить их длину (количество азотистых оснований в последовательности), используя функцию len\n",
    "* Объекты класса можно сравнить на равенство и неравенство (== и !=). Равными считаются объекты, у которых совпадают id и последовательность ДНК"
   ],
   "metadata": {
    "collapsed": false
   },
   "id": "dc8c807d92763932"
  },
  {
   "cell_type": "code",
   "execution_count": null,
   "outputs": [],
   "source": [
    "class DNAsequence:\n",
    "    __slots__ = ['__id', '__sequence', '__complimentary_pairs']\n",
    "    \n",
    "    def __init__(self, id, sequence):\n",
    "        self.__id = id\n",
    "        self.__complimentary_pairs = {\n",
    "            'A' : 'T',\n",
    "            'T' : 'A',\n",
    "            'G' : 'C',\n",
    "            'C' : 'G',\n",
    "        }\n",
    "        \n",
    "        for char in sequence:\n",
    "            if not char in ['A', 'G', 'C', 'T']:\n",
    "                raise ValueError      \n",
    "        self.__sequence = sequence\n",
    "        \n",
    "    @property\n",
    "    def id(self):\n",
    "        return self.__id\n",
    "    \n",
    "    @property\n",
    "    def sequence(self):\n",
    "        return self.__sequence\n",
    "    \n",
    "    @id.setter\n",
    "    def id(self, new_id):\n",
    "        self.__id = new_id\n",
    "    \n",
    "    def __len__(self):\n",
    "        return len(self.__sequence)\n",
    "    \n",
    "    def __eq__(self, other):\n",
    "        if self.id != other.id:\n",
    "            return False\n",
    "        elif len(self.__sequence) != len(other.__sequence):\n",
    "            return False\n",
    "        else:\n",
    "            for i, j in zip(self.__sequence, other.sequence):\n",
    "                if i != j: return False\n",
    "        \n",
    "        return True\n",
    "    \n",
    "    def __ne__(self, other):\n",
    "        return not self == other\n",
    "    \n",
    "    def complement(self):\n",
    "        result = []\n",
    "        for nitrogenous_base in self.__sequence:\n",
    "            result.append(self.__complimentary_pairs[nitrogenous_base])\n",
    "        return ''.join(result)"
   ],
   "metadata": {
    "collapsed": false
   },
   "id": "207db130f7b12e5d"
  }
 ],
 "metadata": {
  "kernelspec": {
   "display_name": "Python 3",
   "language": "python",
   "name": "python3"
  },
  "language_info": {
   "codemirror_mode": {
    "name": "ipython",
    "version": 2
   },
   "file_extension": ".py",
   "mimetype": "text/x-python",
   "name": "python",
   "nbconvert_exporter": "python",
   "pygments_lexer": "ipython2",
   "version": "2.7.6"
  }
 },
 "nbformat": 4,
 "nbformat_minor": 5
}
