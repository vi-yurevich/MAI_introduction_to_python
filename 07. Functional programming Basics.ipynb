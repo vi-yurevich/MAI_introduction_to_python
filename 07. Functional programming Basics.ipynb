{
 "cells": [
  {
   "cell_type": "markdown",
   "source": [
    "# Task 1\n",
    "Напишите генератор последовательности чисел трибоначчи tribonacci(n). \n",
    "\n",
    "**Функция принимает один аргумент:** n -- натуральное число, индекс последнего элемента в генерируемой последовательности.\n",
    "\n",
    "Числа трибоначчи – последовательность чисел, отличающаяся от чисел Фибоначчи тем, что следующее число образуется как сумма трех предыдущих чисел. Нулевой и первый член последовательности равны 0, второй член последовательности равен 1. Начало этой последовательности выглядит так: 0, 0, 1, 1, 2, 4, 7, 13, 24, 44, 81, 149, 274.\n",
    "\n",
    "**Примеры**\n",
    "\n",
    "list(tribonacci(3)) -> [0, 0, 1, 1] сгенерировано 4 элемента, так как нумерация элементов последовательности трибоначчи с нуля\n",
    "\n",
    "list(tribonacci(7)) -> [0, 0, 1, 1, 2, 4, 7, 13]"
   ],
   "metadata": {
    "collapsed": false
   },
   "id": "f125a240e3d8ecfd"
  },
  {
   "cell_type": "code",
   "execution_count": 5,
   "outputs": [
    {
     "data": {
      "text/plain": "[0, 0, 1, 1, 2, 4, 7, 13]"
     },
     "execution_count": 5,
     "metadata": {},
     "output_type": "execute_result"
    }
   ],
   "source": [
    "def tribonacci(n):\n",
    "    sequence = [0, 0, 1]\n",
    "    for i in range(n+1):\n",
    "        if i < 3:\n",
    "            yield sequence[i]\n",
    "        else: \n",
    "            sequence.append(sequence[-1] + sequence[-2] + sequence[-3])\n",
    "            yield sequence[-1]"
   ],
   "metadata": {
    "collapsed": false,
    "ExecuteTime": {
     "end_time": "2023-12-02T12:04:14.473099728Z",
     "start_time": "2023-12-02T12:04:14.459820154Z"
    }
   },
   "id": "b8f3b5ab8e5ad9a1"
  },
  {
   "cell_type": "markdown",
   "source": [
    "# Task 2\n",
    "Напишите функцию compute_nearest_neighbour(p1, points), которая принимает два аргумента:\n",
    "\n",
    "**Функция принимает два аргумента:**\n",
    "\n",
    "p1 -- некоторая выделенная точка на плоскости, кортеж из двух элементов (вещественных чисел, координат точки).\n",
    "\n",
    "points -- набор точек на плоскости, непустой кортеж, элементы которого -- точки, кортежи из двух элементов (вещественных чисел, координат точки).\n",
    "\n",
    "**Функция возвращает одно значение:** кортеж, состоящий из двух других кортежей. В первом -- точка из points, которая ближе всего к p1 по Манхэттенской метрике. Во втором -- точка из points, которая ближе всего к p1 по Эвклидовой метрике.\n",
    "\n",
    "**Примеры**\n",
    "\n",
    "compute_nearest_neighbour((0, 0), ((1, 5), (3, 4))) -> ((1, 5), (3, 4))\n",
    "\n",
    "compute_nearest_neighbour((1, 1), ((2, 2), (5, 4), (2, 1))) -> ((2, 1), (2, 1))\n",
    "\n",
    "**Примечание 1:** Запрещено использовать циклы, условный оператор и т.д. Используйте элементы функционального программирования.\n",
    "**Примечание 2:** В случае, если некоторые две точки из points равноудалены от p1, функция может вернуть любую из них."
   ],
   "metadata": {
    "collapsed": false
   },
   "id": "c1053e74a90383d7"
  },
  {
   "cell_type": "code",
   "execution_count": 19,
   "outputs": [
    {
     "data": {
      "text/plain": "((2, 1), (2, 1))"
     },
     "execution_count": 19,
     "metadata": {},
     "output_type": "execute_result"
    }
   ],
   "source": [
    "def compute_nearest_neighbour(p1, points):\n",
    "    l1_metric = lambda a, b: abs(a[0] - b[0]) + abs(a[1] - b[1])\n",
    "    l2_metric = lambda a, b: ((a[0] - b[0]) ** 2 + (a[1] - b[1]) ** 2) ** .5\n",
    "    get_first = lambda t: t[0]\n",
    "    get_second = lambda t: t[1]\n",
    "    point_with_l1_min_distance = get_second(min(((l1_metric(p1, point),  point) for point in points), key=get_first))\n",
    "    point_with_l2_min_distance = get_second(min(((l2_metric(p1, point),  point) for point in points), key=get_first))\n",
    "    \n",
    "    return (\n",
    "        point_with_l1_min_distance,\n",
    "        point_with_l2_min_distance\n",
    "    )"
   ],
   "metadata": {
    "collapsed": false,
    "ExecuteTime": {
     "end_time": "2023-12-03T09:16:17.803950015Z",
     "start_time": "2023-12-03T09:16:17.749342972Z"
    }
   },
   "id": "6b630da698874962"
  },
  {
   "cell_type": "markdown",
   "source": [
    "# Task 3\n",
    "\n",
    "В этой задаче вам требуется обработать входные данные и вывести их с использованием различных сортировок. Не используйте циклы или условный оператор, потренируйтесь в написании функций, именованных и анонимных, а также функций высшего порядка. Именно для обработки этих навыков и предусмотрена такая \"постановочная\" задача.\n",
    "\n",
    "**Входные данные:** последовательность вещественных чисел, вводятся с клавиатуры в одной строке, разделены пробелами.\n",
    "\n",
    "**Выходные данные:** преобразованные и отсортированные указанным образом последовательности чисел.\n",
    "\n",
    "0) Среди введенных чисел для дальнейшей обработки нужно оставить только те из них, которые являются целыми (то есть дробная часть равна 0). Эти числа должны быть преобразованы в int.\n",
    "\n",
    "1) Последовательность чисел, отсортированная следующим образом: сначала идут положительные числа по неубыванию, затем неположительные — также по неубыванию.\n",
    "\n",
    "2) Последовательность чисел, отсортированная следующим образом: в порядке неубывания суммы их цифр. При этом, если у двух чисел одинаковая сумма цифр, их следует вывести в порядке неубывания.\n",
    "\n",
    "3) Последовательность чисел, отсортированная следующим образом: сначала четные числа в порядке неубывания, затем нечетные в порядке невозрастания.\n",
    "\n",
    "**Пример**\n",
    "\n",
    "**Входные данные:**\n",
    "\n",
    "0.5 2 2 5 11 10.5 12 -21 1 -8 9 0\n",
    "\n",
    "**Вывод программы:**\n",
    "\n",
    "[1, 2, 2, 5, 9, 11, 12, -21, -8, 0]\n",
    "[0, 1, 2, 2, 11, -21, 12, 5, -8, 9]\n",
    "[-8, 0, 2, 2, 12, 11, 9, 5, 1, -21]"
   ],
   "metadata": {
    "collapsed": false
   },
   "id": "b2821584181a5d47"
  },
  {
   "cell_type": "code",
   "execution_count": 76,
   "outputs": [
    {
     "name": "stdout",
     "output_type": "stream",
     "text": [
      "[1, 2, 2, 5, 9, 11, 12, -21, -8, 0]\n",
      "[0, 1, 2, 2, 11, -21, 12, 5, -8, 9]\n",
      "[-8, 0, 2, 2, 12, 11, 9, 5, 1, -21]\n"
     ]
    }
   ],
   "source": [
    "import math\n",
    "import itertools\n",
    "import functools\n",
    "import operator\n",
    "\n",
    "\n",
    "def partition(pred, iterable):\n",
    "    t1, t2 = itertools.tee(iterable)\n",
    "    return filter(pred, t1), itertools.filterfalse(pred, t2)\n",
    "\n",
    "\n",
    "sort_non_descending = lambda t: sorted(t, reverse=False)\n",
    "sort_non_ascending = lambda t: sorted(t, reverse=True)\n",
    "\n",
    "\n",
    "def compare_digits_sum(x, y):\n",
    "    digits_sum = lambda t: functools.reduce(operator.add, map(int, str(abs(t))))\n",
    "    x_digit_sum = digits_sum(x)\n",
    "    y_digit_sum = digits_sum(y)\n",
    "    if x_digit_sum > y_digit_sum:\n",
    "        return 1\n",
    "    elif x_digit_sum < y_digit_sum:\n",
    "        return -1\n",
    "    elif x > y:\n",
    "        return 1\n",
    "    elif x < y:\n",
    "        return -1\n",
    "    else:\n",
    "        return 0\n",
    "\n",
    "is_even = lambda t: t % 2 == 0\n",
    "is_positive = lambda t: t > 0\n",
    "\n",
    "\n",
    "numbers = [float(number) for number in input().split(' ')]\n",
    "filtered_numbers = filter(lambda t: math.floor(t) == math.ceil(t), numbers)\n",
    "int_numbers = list(map(int, filtered_numbers))\n",
    "\n",
    "\n",
    "positive_numbers, negative_numbers = partition(is_positive, int_numbers)\n",
    "print(sort_non_descending(positive_numbers) + sort_non_descending(negative_numbers))\n",
    "\n",
    "print(sorted(int_numbers, key=functools.cmp_to_key(compare_digits_sum)))\n",
    "\n",
    "even_numbers, odd_number = partition(is_even, int_numbers)\n",
    "print(sort_non_descending(even_numbers) + sort_non_ascending(odd_number))"
   ],
   "metadata": {
    "collapsed": false,
    "ExecuteTime": {
     "start_time": "2023-12-02T10:35:37.121115060Z"
    }
   },
   "id": "5fe218de252451a5"
  }
 ],
 "metadata": {
  "kernelspec": {
   "display_name": "Python 3",
   "language": "python",
   "name": "python3"
  },
  "language_info": {
   "codemirror_mode": {
    "name": "ipython",
    "version": 2
   },
   "file_extension": ".py",
   "mimetype": "text/x-python",
   "name": "python",
   "nbconvert_exporter": "python",
   "pygments_lexer": "ipython2",
   "version": "2.7.6"
  }
 },
 "nbformat": 4,
 "nbformat_minor": 5
}
