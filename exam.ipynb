{
 "cells": [
  {
   "cell_type": "markdown",
   "source": [],
   "metadata": {
    "collapsed": false
   },
   "id": "3ece2785e033134e"
  },
  {
   "cell_type": "markdown",
   "source": [
    "# Task 1\n",
    "Скобочная последовательность (англ. Bracket Sequences) — класс\n",
    "комбинаторных объектов, представляющих собой последовательность\n",
    "скобочных символов. Правильная скобочная последовательность (англ. Correct\n",
    "Bracket Sequences) — частный случай скобочной последовательности. В случае\n",
    "правильной скобочной последовательности каждой открывающей скобке\n",
    "соответствует закрывающая, причем открывающая скобка следует ранее\n",
    "закрывающей.\n",
    "\n",
    "Мы будем рассматривать скобочные последовательности, состоящие только\n",
    "из круглых скобок ().\n",
    "\n",
    "Примеры скобочных последовательностей\n",
    "Правильные скобочные последовательности: (), ()(()), (()()()())\n",
    "Неправильные скобочные последовательности: )(, ((()), )()()((((), (\n",
    "\n",
    "Напишите функцию is_correct_bracket_sequence(seq), которая определяет,\n",
    "является ли строка seq правильной скобочной последовательностью.\n",
    "\n",
    "**Функция принимает один аргумент:** непустую строку seq, состоящую только из\n",
    "круглых скобок.\n",
    "\n",
    "**Функция возвращает одно значение:** True, если в seq записана правильная\n",
    "скобочная последовательность и False иначе.\n",
    "\n",
    "**Примеры**\n",
    "\n",
    "is_correct_bracket_sequence(“()()(())”) -> True\n",
    "\n",
    "is_correct_bracket_sequence(“()()((”) -> False\n",
    "\n",
    "is_correct_bracket_sequence(“)(”) -> False\n",
    "\n",
    "is_correct_bracket_sequence(“(”) -> False\n"
   ],
   "metadata": {
    "collapsed": false
   },
   "id": "1abbe00c6bdd0e0a"
  },
  {
   "cell_type": "code",
   "outputs": [],
   "source": [
    "def is_correct_bracket_sequence(seq):\n",
    "    stack = []\n",
    "    for bracket in seq:\n",
    "        if bracket == '(':\n",
    "            stack.append(bracket)\n",
    "        else:\n",
    "            if len(stack) == 0:\n",
    "                return False\n",
    "            else:\n",
    "                if stack[-1] != '(':\n",
    "                    return False\n",
    "                else:\n",
    "                    stack.pop()\n",
    "                    \n",
    "    if len(stack) != 0:\n",
    "        return False\n",
    "    \n",
    "    return True"
   ],
   "metadata": {
    "collapsed": false,
    "ExecuteTime": {
     "end_time": "2024-01-17T10:19:26.479558035Z",
     "start_time": "2024-01-17T10:19:26.463598668Z"
    }
   },
   "id": "f69917c99bd9b450",
   "execution_count": 4
  },
  {
   "cell_type": "markdown",
   "source": [],
   "metadata": {
    "collapsed": false
   },
   "id": "ae54db54b94b08f6"
  },
  {
   "cell_type": "markdown",
   "source": [
    "# Task 2\n",
    "Два друга играют в игру.\n",
    "Первый загадывает число от 1 до N включительно, а второй, зная N, пытается\n",
    "это число отгадать в следующем формате:\n",
    "\n",
    "Второй друг называет несколько чисел, а первый говорит, есть ли среди них\n",
    "загаданное.\n",
    "\n",
    "Требуется вывести загаданное число (если это возможно), иначе вывести\n",
    "информацию о том, что число угадать не удалось.\n",
    "\n",
    "**Входные данные:** в первой строке записано натуральное число N. N > 1\n",
    "В последующих строках записаны натуральные числа от 1 до N включительно\n",
    "каждое. Числа разделены пробелами. В конце строки записано YES, если\n",
    "среди чисел в строке есть загаданное и NO в противном случае.\n",
    "Строки с этими данными вводятся с клавиатуры, признаком окончания ввода\n",
    "данных является символ '!'.\n",
    "\n",
    "**Вывод программы:** загаданное число, либо строка \"Не удалось отгадать число\".\n",
    "\n",
    "**Примеры**\n",
    "\n",
    "Входные данные:  \n",
    "10  \n",
    "1 2 3 YES  \n",
    "2 5 6 NO  \n",
    "3 6 8 NO  \n",
    "1 4 9 10 YES  \n",
    "2 4 7 9 10 NO  \n",
    "!  \n",
    "Вывод программы:  \n",
    "1\n",
    "\n",
    "Входные данные:  \n",
    "5  \n",
    "1 2 3 YES  \n",
    "2 5 NO  \n",
    "!  \n",
    "Вывод программы:  \n",
    "Не удалось отгадать число\n",
    "\n",
    "Входные данные:  \n",
    "2  \n",
    "2 NO  \n",
    "!  \n",
    "Вывод программы:  \n",
    "1  \n",
    "\n",
    "Входные данные:  \n",
    "100  \n",
    "97 YES  \n",
    "!  \n",
    "Вывод программы:  \n",
    "97  "
   ],
   "metadata": {
    "collapsed": false
   },
   "id": "eda8f67a8a5e31fb"
  },
  {
   "cell_type": "code",
   "source": [
    "N = int(input())\n",
    "yes_set = set()\n",
    "no_set = set()\n",
    "\n",
    "while True:\n",
    "    input_str = input()\n",
    "    if input_str == '!':\n",
    "        break\n",
    "    \n",
    "    input_seq = input_str.split()\n",
    "    \n",
    "    if input_seq[-1] == 'YES':\n",
    "        \n",
    "        current_step_set = set()\n",
    "        for number in input_seq[:-1]:\n",
    "            current_step_set.add(int(number))\n",
    "        \n",
    "        if yes_set:\n",
    "            yes_set = yes_set.intersection(current_step_set)\n",
    "        else:\n",
    "            yes_set = current_step_set\n",
    "    \n",
    "    else:\n",
    "        for number in input_seq[:-1]:\n",
    "            no_set.add(int(number))\n",
    "            \n",
    "answer = list(yes_set - no_set)\n",
    "\n",
    "if len(answer) == 1:\n",
    "    print(answer[0])\n",
    "elif len(no_set) == N - 1:\n",
    "    numbers = {n for n in range(1,N+1)}\n",
    "    answer = list(numbers - no_set)[0]\n",
    "    print(answer)\n",
    "else:\n",
    "    print(\"Не удалось отгадать число\")"
   ],
   "metadata": {
    "collapsed": false,
    "ExecuteTime": {
     "end_time": "2024-04-16T14:28:49.693370Z",
     "start_time": "2024-04-16T14:28:36.025564Z"
    }
   },
   "id": "947220950c2250e",
   "outputs": [
    {
     "name": "stdout",
     "output_type": "stream",
     "text": [
      "Не удалось отгадать число\n"
     ]
    }
   ],
   "execution_count": 7
  },
  {
   "cell_type": "markdown",
   "source": [
    "# Task 3\n",
    "\n",
    "Существуют различные алгоритмы сжатия последовательностей и в этой задаче вам предстоит реализовать один из них. На вход подается строка, состоящая из символов латинского алфавита. Гарантируется, что в строке есть как минимум один символ. Необходимо заменить повторяющиеся подряд идущие символы на количество их повторов и сам символ. Например, вместо подстроки aaaa должно получиться 4a.\n",
    "\n",
    "**Входные данные:** непустая строка, вводится с клавиатуры.\n",
    "\n",
    "**Вывод программы:** одна строка — сжатая по вышеописанному алгоритму.\n",
    "\n",
    "**Примеры**\n",
    "\n",
    "Входные данные:\n",
    "a\n",
    "Вывод программы: \n",
    "1a\n",
    "\n",
    "Входные данные:\n",
    "abbffffaa\n",
    "Вывод программы: \n",
    "1a2b4f2a\n",
    "\n",
    "Входные данные:\n",
    "wwwabcdwww\n",
    "Вывод программы: \n",
    "3w1a1b1c1d3w"
   ],
   "metadata": {
    "collapsed": false
   },
   "id": "541a07fb14aaf23"
  },
  {
   "cell_type": "code",
   "outputs": [
    {
     "name": "stdout",
     "output_type": "stream",
     "text": [
      "3w1a1b1c1d3w\n"
     ]
    }
   ],
   "source": [
    "input_str = input()\n",
    "input_length = len(input_str)\n",
    "\n",
    "result = []\n",
    "index = 0\n",
    "\n",
    "while True:\n",
    "    char = input_str[index]\n",
    "    start_repeat_char_sequence_index = index\n",
    "    while index < input_length - 1 and char == input_str[index+1]:\n",
    "        index += 1\n",
    "    \n",
    "    result.append(str(index - start_repeat_char_sequence_index + 1) + char)\n",
    "    index += 1\n",
    "    \n",
    "    if index == input_length:\n",
    "        break\n",
    "    \n",
    "print(''.join(result))"
   ],
   "metadata": {
    "collapsed": false,
    "ExecuteTime": {
     "end_time": "2024-01-17T12:49:04.164765775Z",
     "start_time": "2024-01-17T12:49:02.855517700Z"
    }
   },
   "id": "b2469edc0fc7e009",
   "execution_count": 24
  },
  {
   "cell_type": "markdown",
   "source": [
    "# Task 4\n",
    "\n",
    "Реализуйте функцию compute_palindromes(number), которая вычисляет все натуральные числа, не превышающие number и являющиеся палиндромами. Напомним, что палиндром — это число, которое одинаково читается в обоих направлениях. Например, числа 121, 13455431, 11. В этой задаче считаем, что в числе-палиндроме не менее двух разрядов.\n",
    "\n",
    "**Функция принимает один аргумент:** натуральное число number.\n",
    "\n",
    "**Функция возвращает:** все числа в диапазоне [1, number], которые являются палиндромами. Числа перечислены в порядке возрастания. Если таковых нет, возвращается пустой кортеж.\n",
    "\n",
    "**Примеры**\n",
    "\n",
    "compute_palindromes(10) - > ()\n",
    "\n",
    "compute_palindromes(11) -> (11)\n",
    "\n",
    "compute_palindromes(105) -> (11, 22, 33, 44, 55, 66, 77, 88, 99, 101)"
   ],
   "metadata": {
    "collapsed": false
   },
   "id": "564cfb7925aac1d9"
  },
  {
   "cell_type": "code",
   "outputs": [],
   "source": [
    "def compute_palindromes(number):\n",
    "    def is_palindrome(number):\n",
    "        number = str(number)        \n",
    "        result = True\n",
    "        \n",
    "        for i in range(len(number) // 2):\n",
    "            result &= number[i] == number[-(i + 1)]\n",
    "            \n",
    "        return result\n",
    "    \n",
    "    def compute_palindromes_rec(current_number=10, accumulate=tuple()):\n",
    "        if current_number > number:\n",
    "            return accumulate\n",
    "        \n",
    "        if is_palindrome(current_number):\n",
    "            return compute_palindromes_rec(current_number + 1, (*accumulate, current_number))\n",
    "        else:\n",
    "            return compute_palindromes_rec(current_number + 1, accumulate)\n",
    "            \n",
    "    return compute_palindromes_rec()"
   ],
   "metadata": {
    "collapsed": false,
    "ExecuteTime": {
     "end_time": "2024-01-17T15:19:09.149372741Z",
     "start_time": "2024-01-17T15:19:09.113645628Z"
    }
   },
   "id": "a4b0c56c10478799",
   "execution_count": 2
  },
  {
   "cell_type": "markdown",
   "source": [
    "# Task 5\n",
    "\n",
    "Создайте класс Vector, описывающий векторы в 3-мерном пространстве.\n",
    "\n",
    "Для экземпляров класса должны быть реализованы специальные (dunder) методы:\n",
    "   * сравнение на равенство (два вектора равны, если их компоненты совпадают)\n",
    "   * сравнение на неравенство\n",
    "   * сложение и вычитание векторов (производится покомпонентно)\n",
    "   * умножение векторов (вычисляется их скалярное произведение)\n",
    "   * модуль вектора abs(согласно Эвклидовой норме)\n",
    "   * строковое представление вектора\n",
    "\n",
    "А также методы:\n",
    "   * normalized() — нормировка вектора (приведение к единичной длине), возвращает нормированный вектор для данного\n",
    "   * is_orthogonal(other) — возвращает True, если данный вектор ортогонален вектору other, иначе False\n",
    "\n",
    "\n",
    "**Пример**\n",
    "\n",
    "a = Vector(1, 2, 0)\n",
    "b = Vector(2, 6.5, 0.1)\n",
    "c = Vector(0, 0, 0)\n",
    "\n",
    "print(b) ->(2, 6.5, 0.1)\n",
    "print(a + b) -> (3, 8.5, 0.1)\n",
    "print(a * b) -> 15.0\n",
    "print(a != b) -> True\n",
    "print(abs(a)) -> 2.23606797749979\n",
    "print(a.normalized()) -> (0.4472135954999579, 0.8944271909999159, 0.0)\n",
    "print(a.is_orthogonal(c)) -> True"
   ],
   "metadata": {
    "collapsed": false
   },
   "id": "829354e8060707f2"
  },
  {
   "cell_type": "code",
   "outputs": [],
   "source": [
    "from math import isclose\n",
    "from math import sqrt\n",
    "\n",
    "class Vector:\n",
    "    def __init__(self, x, y, z):\n",
    "        self._x = x\n",
    "        self._y = y\n",
    "        self._z = z\n",
    "        \n",
    "    def __eq__(self, other):\n",
    "        return (\n",
    "            isclose(self._x, other._x)\n",
    "            and isclose(self._y, other._y)\n",
    "            and isclose(self._z, other._z)\n",
    "        )\n",
    "    \n",
    "    def __ne__(self, other):\n",
    "        return not self == other\n",
    "    \n",
    "    def __add__(self, other):\n",
    "        return Vector(\n",
    "            self._x + other._x,\n",
    "            self._y + other._y,\n",
    "            self._z + other._z\n",
    "        )\n",
    "    \n",
    "    def __sub__(self, other):\n",
    "        return Vector(\n",
    "            self._x - other._x,\n",
    "            self._y - other._y,\n",
    "            self._z - other._z\n",
    "        )\n",
    "    \n",
    "    def __mul__(self, other):\n",
    "        return Vector(\n",
    "            self._x * other._x,\n",
    "            self._y * other._y,\n",
    "            self._z * other._z\n",
    "        )\n",
    "    \n",
    "    def __abs__(self):\n",
    "        return sqrt(self._x ** 2 + self._y ** 2 + self._z ** 2)\n",
    "    \n",
    "    def __str__(self):\n",
    "        return f'({self._x}, {self._y}, {self._z})'\n",
    "    \n",
    "    def normalized(self):\n",
    "        vector_length = abs(self)\n",
    "        return Vector(\n",
    "            self._x / vector_length, \n",
    "            self._y / vector_length, \n",
    "            self._z / vector_length\n",
    "        )\n",
    "    \n",
    "    def is_orthogonal(self, other):\n",
    "        if isclose(abs(self), 0.) or isclose(abs(other), 0.):\n",
    "            return True\n",
    "        \n",
    "        return isclose(abs(self * other) / (abs(self) * abs(other)), 0.)"
   ],
   "metadata": {
    "collapsed": false,
    "ExecuteTime": {
     "end_time": "2024-01-17T13:58:48.495749267Z",
     "start_time": "2024-01-17T13:58:48.450598512Z"
    }
   },
   "id": "288f0536597cf4df",
   "execution_count": 11
  },
  {
   "cell_type": "markdown",
   "source": [
    "# Task 6\n",
    "\n",
    "Существуют различные стили именования переменных. Два популярных из них (в том числе в Python) — это CamelCase и snake_case.\n",
    "При использовании CamelCase каждое отдельное слово внутри фразы, образующей имя переменной, пишется с прописной буквы. Разделителей между словами нет.\n",
    "При использовании snake_case  слова разделяются символом подчеркивания (_), причём каждое слово обычно пишется с маленькой буквы.\n",
    "\n",
    "Напишите функцию to_camel_case(name), которая переводит имя переменной name из snake_case в CamelCase.\n",
    "\n",
    "**Функция принимает один аргумент:** непустую строку, в которой нет пробельных символов\n",
    "\n",
    "**Функция возвращает:** одну строку\n",
    "\n",
    "**Примеры**\n",
    "\n",
    "to_camel_case(“hello_world”) -> HelloWorld\n",
    "\n",
    "to_camel_case(“num_1”) -> Num1\n",
    "\n",
    "to_camel_case(“very_long_long_name”) -> VeryLongLongName"
   ],
   "metadata": {
    "collapsed": false
   },
   "id": "c2a84da3b99b25ce"
  },
  {
   "cell_type": "code",
   "outputs": [],
   "source": [
    "def to_camel_case(name):\n",
    "    words = name.split('_')\n",
    "    if words[0] == '':\n",
    "        words = words[1:]\n",
    "    if words[-1] == '':\n",
    "        words = words[:-1]\n",
    "        \n",
    "    words = [word[0].upper() + word[1:] for word in words]\n",
    "    return ''.join(words)"
   ],
   "metadata": {
    "collapsed": false,
    "ExecuteTime": {
     "end_time": "2024-01-17T14:02:51.827755574Z",
     "start_time": "2024-01-17T14:02:51.778333818Z"
    }
   },
   "id": "5223a5e6ce8dd7ed",
   "execution_count": 14
  },
  {
   "cell_type": "markdown",
   "source": [
    "# Task 7\n",
    "\n",
    "Вводится последовательность целых чисел. Необходимо вывести те числа, которые встречаются в последовательности более одного раза, при этом являются локальными экстремумами (строго больше или строго меньше своих соседей). Для крайних членов последовательности рассматривается их единственный сосед. Числа необходимо вывести в том же порядке, в котором они содержались во введенной последовательности. Если таковых чисел не существует – вывести пустую строку.\n",
    "\n",
    "**Входные данные:** последовательность целых чисел, вводятся с клавиатуры в одной строке, соседние числа разделены пробелом. В последовательности гарантировано есть хотя бы три числа\n",
    "\n",
    "**Вывод программы:** последовательность целых чисел, числа записаны в одной строке, соседние числа разделены пробелом.\n",
    "\n",
    "**Примеры**\n",
    "\n",
    "Входные данные:\n",
    "1 1 4 5 4 6 7 7 5\n",
    "Вывод программы:\n",
    "5 4 5\n",
    "\n",
    "Входные данные:\n",
    "1 2 3 2 3 2 1 9 -2 -1 -5 -1\n",
    "Вывод программы:\n",
    "1 3 2 3 1 -1 -1\n",
    "\n",
    "Входные данные:\n",
    "1 2 3 2 0\n",
    "Вывод программы:\n",
    "‘‘ (пустая строка)"
   ],
   "metadata": {
    "collapsed": false
   },
   "id": "51064a4ca4a63273"
  },
  {
   "cell_type": "code",
   "outputs": [
    {
     "name": "stdout",
     "output_type": "stream",
     "text": []
    }
   ],
   "source": [
    "input_numbers = [int(number) for number in input().split()]\n",
    "\n",
    "occurrences = {}\n",
    "for number in input_numbers:\n",
    "    if number in occurrences:\n",
    "        occurrences[number] = occurrences[number] + 1\n",
    "    else:\n",
    "        occurrences[number] = 1\n",
    "\n",
    "result = []\n",
    "\n",
    "for number, i in zip(input_numbers[1:-1], range(1,len(input_numbers) - 1)):\n",
    "    if occurrences[number] > 1:\n",
    "        if input_numbers[i-1] < number and input_numbers[i+1] < number:\n",
    "            result.append(number)\n",
    "        if input_numbers[i-1] > number and input_numbers[i+1] > number:\n",
    "            result.append(number)\n",
    "            \n",
    "if (occurrences[input_numbers[0]] > 1\n",
    "    and (input_numbers[0] > input_numbers[1]\n",
    "         or input_numbers[0] < input_numbers[1])):\n",
    "    result = [input_numbers[0]] + result\n",
    "    \n",
    "if (occurrences[input_numbers[-1]] > 1\n",
    "    and (input_numbers[-2] > input_numbers[-1]\n",
    "         or input_numbers[-2] < input_numbers[-1])):\n",
    "    result.append(input_numbers[-1])\n",
    "\n",
    "result = [str(number) for number in result]\n",
    "if len(result) > 0:\n",
    "    print(' '.join(result))\n",
    "else:\n",
    "    print('')"
   ],
   "metadata": {
    "collapsed": false,
    "ExecuteTime": {
     "end_time": "2024-01-17T14:33:52.341918738Z",
     "start_time": "2024-01-17T14:33:51.369240212Z"
    }
   },
   "id": "6d2e30c7678281c0",
   "execution_count": 26
  },
  {
   "cell_type": "markdown",
   "source": [
    "# Task 8\n",
    "\n",
    "Рассмотрим множество X натуральных чисел от 1 до n, расположенных в порядке возрастания:\n",
    "\n",
    "Под перестановкой множества X понимается множество этих же чисел, упорядоченное некоторым другим образом.\n",
    "Говорят, что перестановка множества X  содержит инверсию некоторых двух элементов, если нарушен их возрастающий порядок расположения, то есть когда больший элемент расположен левее меньшего.\n",
    "Например, перестановка {2, 1, 3} содержит одну инверсию элементов (элементы 2 и 1). Перестановка же {5, 2, 1, 4, 3} содержит 6 инверсий (элементы 5 и 2, 5 и 1, 5 и 4, 5 и 3, 2 и 1, 4 и 3).\n",
    "\n",
    "\n",
    "В этой задаче вам требуется вычислить число инверсий в последовательности чисел.\n",
    "\n",
    "**Входные данные:** последовательность натуральных чисел, вводятся с клавиатуры в одной строке, соседние числа разделены пробелом. Числа в последовательности не повторяются и представляют собой набор всех натуральных чисел от 1 до некоторого N > 1.\n",
    "\n",
    "\n",
    "**Вывод программы:** одно целое число, количество инверсий в введенной последовательности.\n",
    "\n",
    "**Примеры**\n",
    "\n",
    "Входные данные:\n",
    "1 2 3\n",
    "Вывод программы:\n",
    "0\n",
    "\n",
    "\n",
    "Входные данные:\n",
    "2 3 1\n",
    "Вывод программы:\n",
    "2\n",
    "\n",
    "Входные данные:\n",
    "5 2 1 4 3\n",
    "Вывод программы:\n",
    "6"
   ],
   "metadata": {
    "collapsed": false
   },
   "id": "877408a4836c60f3"
  },
  {
   "cell_type": "code",
   "outputs": [
    {
     "name": "stdout",
     "output_type": "stream",
     "text": [
      "0\n"
     ]
    }
   ],
   "source": [
    "input_numbers = [int(number) for number in input().split()]\n",
    "rearrangement_count = 0\n",
    "\n",
    "for i, number in enumerate(input_numbers):\n",
    "    for next_number in input_numbers[i+1:]:\n",
    "        if number > next_number:\n",
    "            rearrangement_count += 1\n",
    "\n",
    "print(rearrangement_count)"
   ],
   "metadata": {
    "collapsed": false,
    "ExecuteTime": {
     "end_time": "2024-01-17T14:39:16.994033670Z",
     "start_time": "2024-01-17T14:39:13.683695181Z"
    }
   },
   "id": "364339019ad3ca53",
   "execution_count": 30
  }
 ],
 "metadata": {
  "kernelspec": {
   "display_name": "Python 3",
   "language": "python",
   "name": "python3"
  },
  "language_info": {
   "codemirror_mode": {
    "name": "ipython",
    "version": 2
   },
   "file_extension": ".py",
   "mimetype": "text/x-python",
   "name": "python",
   "nbconvert_exporter": "python",
   "pygments_lexer": "ipython2",
   "version": "2.7.6"
  }
 },
 "nbformat": 4,
 "nbformat_minor": 5
}
