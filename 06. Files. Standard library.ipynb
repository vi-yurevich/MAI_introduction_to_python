{
 "cells": [
  {
   "cell_type": "markdown",
   "source": [
    "# Task 1\n",
    "\n",
    "Пользователям редко удается придумать достаточно \"хороший\" пароль. В этом задании вам требуется реализовать генерацию \"почти\" случайных паролей. \"Почти\" -- потому что за основу необходимо взять пароль, придуманный непосредственно пользователем. \n",
    "\n",
    "На основе введенной пользователем строки сгенерируйте случайный пароль заданной пользователем длины.\n",
    "\n",
    "В пароле обязательно должны содержаться:\n",
    "\n",
    " * все символы из пароля, изначально введенного пользователем. Каждый из этих символов в итоговом пароле должен повторяться как минимум такое же количество раз, как в изначально введенном и быть в том же регистре.\n",
    "\n",
    " * как минимум одна буква в верхнем регистре.\n",
    "\n",
    " * как минимум одна буква в нижнем регистре.\n",
    "\n",
    " * как минимум одна цифра.\n",
    "\n",
    " \n",
    "\n",
    "**Входные данные:**\n",
    "pass -- пароль.\n",
    "p_len -- натуральное число, желаемая длина пароля.\n",
    "Значения вводятся с клавиатуры в одной строке через пробел.\n",
    "Гарантируется, что p_len > len(pass) и что все требования к паролю можно реализовать.\n",
    "\n",
    "**Вывод программы:**\n",
    "Сгенерированный согласно условиям задачи пароль.\n",
    "\n",
    " \n",
    "\n",
    "**Пример**\n",
    "\n",
    "Входные данные:\n",
    "qwerty 10\n",
    "Вывод программы (один из возможных):\n",
    "A7we0t7qry"
   ],
   "metadata": {
    "collapsed": false
   },
   "id": "137c464a125c9b0f"
  },
  {
   "cell_type": "code",
   "execution_count": 8,
   "outputs": [
    {
     "name": "stdout",
     "output_type": "stream",
     "text": [
      "1\n",
      "asd3KKNauj\n"
     ]
    }
   ],
   "source": [
    "import random\n",
    "import string\n",
    "\n",
    "password, p_len = input().split(' ')\n",
    "p_len = int(p_len)\n",
    "\n",
    "if password.isascii():\n",
    "    password += str(random.randint(0, 9))\n",
    "   \n",
    "if password.islower():\n",
    "    password += random.choice(string.ascii_uppercase)\n",
    "\n",
    "if password.isupper():\n",
    "    password += random.choice(string.ascii_lowercase)\n",
    "    \n",
    "password_current_len = len(password)\n",
    "\n",
    "while password_current_len < p_len:\n",
    "    password += random.choice(string.ascii_letters)\n",
    "    password_current_len += 1\n",
    "    \n",
    "print(password)"
   ],
   "metadata": {
    "collapsed": false,
    "ExecuteTime": {
     "end_time": "2023-11-02T13:42:02.961090959Z",
     "start_time": "2023-11-02T13:42:00.497129932Z"
    }
   },
   "id": "5c8f677588418205"
  },
  {
   "cell_type": "markdown",
   "source": [
    "# Task 2\n",
    "\n",
    "Вам доступен файл forum_users.txt. В файле хранится информация о пользователях некоторого форума.\n",
    "\n",
    "В каждой строке файла записано три значения, разделенные табуляцией.\n",
    "Первое значение - ник пользователя форума.\n",
    "Второе значение - дата и время первой активности пользователя на форуме.\n",
    "Третье значение - дата и время последней активности пользователя на форуме.\n",
    "\n",
    "Напишите программу, которая создает файл users_stats.txt и выводит в него информацию о каждом пользователе в том же порядке, в котором они были указаны в изначальном файле.\n",
    "\n",
    "Информация о каждом пользователе находится в отдельной строке. В каждой строке файла users_stats.txt должно быть записано три значения, разделенные табуляцией.\n",
    "\n",
    "Первое значение - ник пользователя.\n",
    "Второе значение - количество дней его \"жизни\" на форуме (количество целых дней между датами первой и последней активности).\n",
    "Третье значение - количество целых дней с последней активности пользователя форума до момента формирования статистики (время и дата запуска кода, формирующего файл).\n",
    " \n",
    "**Пример**\n",
    "\n",
    "Первая строка файла forum_users.txt:\n",
    "zestyHyena4    2001-09-25 01:27:18     2011-04-24 19:54:39\n",
    "\n",
    "Первая строка файла users_stats.txt:\n",
    "zestyHyena4    3498    4566"
   ],
   "metadata": {
    "collapsed": false
   },
   "id": "d1e8c61974bbf42"
  },
  {
   "cell_type": "code",
   "source": [
    "from _datetime import datetime\n",
    "\n",
    "datetime_format = \"%Y-%m-%d %H:%M:%S\"\n",
    "\n",
    "with open(\"forum_users.txt\", mode='r') as input_file, open(\"users_stats.txt\", mode='w') as output_file:\n",
    "    j = 0\n",
    "    for line in input_file:\n",
    "        nickname, first_activity_date_string, last_activity_date_string = line.split(sep='\\t')\n",
    "        first_activity_date = datetime.strptime(first_activity_date_string, datetime_format)\n",
    "        last_activity_date = datetime.strptime(last_activity_date_string.rstrip(), datetime_format)\n",
    "        \n",
    "        activity_days = (last_activity_date - first_activity_date).days\n",
    "        days_from_last_activity_to_current_day = (datetime.today() - last_activity_date).days\n",
    "        \n",
    "        print(nickname, activity_days, days_from_last_activity_to_current_day, sep='\\t', file=output_file)"
   ],
   "metadata": {
    "collapsed": false,
    "ExecuteTime": {
     "end_time": "2024-04-16T14:31:18.453564Z",
     "start_time": "2024-04-16T14:31:16.491731Z"
    }
   },
   "id": "f153e29625a732e",
   "outputs": [],
   "execution_count": 2
  }
 ],
 "metadata": {
  "kernelspec": {
   "display_name": "Python 3",
   "language": "python",
   "name": "python3"
  },
  "language_info": {
   "codemirror_mode": {
    "name": "ipython",
    "version": 2
   },
   "file_extension": ".py",
   "mimetype": "text/x-python",
   "name": "python",
   "nbconvert_exporter": "python",
   "pygments_lexer": "ipython2",
   "version": "2.7.6"
  }
 },
 "nbformat": 4,
 "nbformat_minor": 5
}
